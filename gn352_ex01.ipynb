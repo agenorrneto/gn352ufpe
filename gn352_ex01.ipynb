{
  "nbformat": 4,
  "nbformat_minor": 0,
  "metadata": {
    "colab": {
      "name": "gn352_ex01.ipynb",
      "provenance": [],
      "authorship_tag": "ABX9TyPGY4dc+3/8zgdcGpVz7+MZ",
      "include_colab_link": true
    },
    "kernelspec": {
      "name": "python3",
      "display_name": "Python 3"
    },
    "language_info": {
      "name": "python"
    }
  },
  "cells": [
    {
      "cell_type": "markdown",
      "metadata": {
        "id": "view-in-github",
        "colab_type": "text"
      },
      "source": [
        "<a href=\"https://colab.research.google.com/github/agenorrneto/gn352ufpe/blob/main/gn352_ex01.ipynb\" target=\"_parent\"><img src=\"https://colab.research.google.com/assets/colab-badge.svg\" alt=\"Open In Colab\"/></a>"
      ]
    },
    {
      "cell_type": "markdown",
      "source": [
        "## Nomes dos integrantes\n",
        "- \n",
        "- \n",
        "- \n",
        "- "
      ],
      "metadata": {
        "id": "KpBqxHcvVZv5"
      }
    },
    {
      "cell_type": "markdown",
      "source": [
        "## Instale os pacotes necessários para a análise"
      ],
      "metadata": {
        "id": "FZVHmJNJVGwL"
      }
    },
    {
      "cell_type": "code",
      "source": [
        "!pip install Biopython"
      ],
      "metadata": {
        "colab": {
          "base_uri": "https://localhost:8080/"
        },
        "id": "WlFFzSKWTDVU",
        "outputId": "07117087-5992-48a0-c0a5-3f88f40d59d2"
      },
      "execution_count": null,
      "outputs": [
        {
          "output_type": "stream",
          "name": "stdout",
          "text": [
            "Looking in indexes: https://pypi.org/simple, https://us-python.pkg.dev/colab-wheels/public/simple/\n",
            "Collecting Biopython\n",
            "  Downloading biopython-1.79-cp37-cp37m-manylinux_2_5_x86_64.manylinux1_x86_64.whl (2.3 MB)\n",
            "\u001b[K     |████████████████████████████████| 2.3 MB 5.0 MB/s \n",
            "\u001b[?25hRequirement already satisfied: numpy in /usr/local/lib/python3.7/dist-packages (from Biopython) (1.21.6)\n",
            "Installing collected packages: Biopython\n",
            "Successfully installed Biopython-1.79\n"
          ]
        }
      ]
    },
    {
      "cell_type": "code",
      "source": [
        "from Bio import SeqIO"
      ],
      "metadata": {
        "id": "IxoeYlWVTcXg"
      },
      "execution_count": null,
      "outputs": []
    },
    {
      "cell_type": "code",
      "execution_count": null,
      "metadata": {
        "id": "whBxrxh-SWv7"
      },
      "outputs": [],
      "source": [
        "import pandas as pd"
      ]
    },
    {
      "cell_type": "markdown",
      "source": [
        "## Extraindo frequências da sequẽncia gênica de escolha"
      ],
      "metadata": {
        "id": "uap7-gXXVLvl"
      }
    },
    {
      "cell_type": "code",
      "source": [
        "freqs = {}\n",
        "\n",
        "with open(\"g6pd.fasta\") as handle:\n",
        "  for sequence in SeqIO.parse(handle, \"fasta\"):\n",
        "    for n in [\"A\", \"C\", \"G\", \"T\"]:\n",
        "      freqs[n] = sequence.seq.count(f\"{n}\")/len(sequence.seq)"
      ],
      "metadata": {
        "id": "gbsWN3--SswM"
      },
      "execution_count": null,
      "outputs": []
    },
    {
      "cell_type": "code",
      "source": [
        "freqs"
      ],
      "metadata": {
        "colab": {
          "base_uri": "https://localhost:8080/"
        },
        "id": "4bvqU9kiT6Vo",
        "outputId": "99a9232b-03d4-4246-8c87-b616fe9c554e"
      },
      "execution_count": null,
      "outputs": [
        {
          "output_type": "execute_result",
          "data": {
            "text/plain": [
              "{'A': 0.22319040634975412,\n",
              " 'C': 0.2825468035544819,\n",
              " 'G': 0.2692606332499353,\n",
              " 'T': 0.22500215684582867}"
            ]
          },
          "metadata": {},
          "execution_count": 11
        }
      ]
    },
    {
      "cell_type": "code",
      "source": [
        "pd.Series(freqs)"
      ],
      "metadata": {
        "colab": {
          "base_uri": "https://localhost:8080/"
        },
        "id": "iZX18QYBUtFI",
        "outputId": "15d2748e-29b0-43e8-9e37-9929115b6292"
      },
      "execution_count": null,
      "outputs": [
        {
          "output_type": "execute_result",
          "data": {
            "text/plain": [
              "A    0.223190\n",
              "C    0.282547\n",
              "G    0.269261\n",
              "T    0.225002\n",
              "dtype: float64"
            ]
          },
          "metadata": {},
          "execution_count": 14
        }
      ]
    }
  ]
}